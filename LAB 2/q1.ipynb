{
 "cells": [
  {
   "cell_type": "code",
   "execution_count": 1,
   "metadata": {},
   "outputs": [],
   "source": [
    "import pyspark\n",
    "import os\n",
    "import sys\n",
    "from pyspark import SparkContext\n",
    "from pyspark import SparkConf\n",
    "os.environ['PYSPARK_PYTHON'] = sys.executable\n",
    "os.environ['PYSPARK_DRIVER_PYTHON'] = sys.executable"
   ]
  },
  {
   "cell_type": "code",
   "execution_count": 9,
   "metadata": {},
   "outputs": [
    {
     "name": "stdout",
     "output_type": "stream",
     "text": [
      "to: 2\n",
      "be: 2\n",
      "or: 1\n",
      "not: 1\n",
      "me: 1\n"
     ]
    }
   ],
   "source": [
    "#1  WORD COUNT\n",
    "\n",
    "sc = SparkContext.getOrCreate(SparkConf().setMaster(\"local[*]\"))\n",
    "\n",
    "# Load the text file\n",
    "lines = sc.textFile(\"text.txt\")\n",
    "\n",
    "counts = lines.flatMap(lambda line: line.split(\" \")) \\\n",
    "    .map(lambda word: (word, 1)) \\\n",
    "    .reduceByKey(lambda x, y: x + y)\n",
    "\n",
    "output = counts.collect()\n",
    "\n",
    "for (word, count) in output:\n",
    "    print(\"%s: %i\" % (word, count))\n",
    "\n",
    "# Stop the SparkContext\n",
    "sc.stop()"
   ]
  },
  {
   "cell_type": "code",
   "execution_count": 10,
   "metadata": {},
   "outputs": [
    {
     "name": "stderr",
     "output_type": "stream",
     "text": [
      "                                                                                \r"
     ]
    },
    {
     "name": "stdout",
     "output_type": "stream",
     "text": [
      "5\n",
      "+---+-----+\n",
      "| id| name|\n",
      "+---+-----+\n",
      "|  1|Alice|\n",
      "|  2|  Bob|\n",
      "|  3|Carol|\n",
      "|  4| Dave|\n",
      "|  5|  Eve|\n",
      "+---+-----+\n",
      "\n",
      "+---+-----+---+\n",
      "| id| name|age|\n",
      "+---+-----+---+\n",
      "|  1|Alice| 10|\n",
      "+---+-----+---+\n",
      "\n"
     ]
    }
   ],
   "source": [
    "#2 Filter and With column\n",
    "\n",
    "from pyspark.sql import SparkSession\n",
    "# Create a SparkSession\n",
    "spark = SparkSession.builder.getOrCreate()\n",
    "# Create a DataFrame\n",
    "df = spark.createDataFrame([\n",
    "(1, \"Alice\"),\n",
    "(2, \"Bob\"),\n",
    "(3, \"Carol\"),\n",
    "(4, \"Dave\"),\n",
    "(5, \"Eve\")\n",
    "], [\"id\", \"name\"])\n",
    "print(df.count())\n",
    "df.show()\n",
    "#df.write.format(\"csv\").mode('overwrite').save('output')\n",
    "# Filter the DataFrame to only include rows where the name starts with \"A\"\n",
    "df = df.filter(df[\"name\"].startswith(\"A\"))\n",
    "# Add a new column to the DataFrame called \"age\"\n",
    "df = df.withColumn(\"age\", df[\"id\"] * 10)\n",
    "# Print the DataFrame\n",
    "df.show()"
   ]
  },
  {
   "cell_type": "code",
   "execution_count": 11,
   "metadata": {},
   "outputs": [
    {
     "name": "stderr",
     "output_type": "stream",
     "text": [
      "24/01/12 14:26:55 WARN SparkSession: Using an existing Spark session; only runtime SQL configurations will take effect.\n"
     ]
    },
    {
     "name": "stdout",
     "output_type": "stream",
     "text": [
      "Original DataFrame:\n",
      "+-----+---+\n",
      "| Name|Age|\n",
      "+-----+---+\n",
      "| John| 28|\n",
      "|Alice| 22|\n",
      "|  Bob| 32|\n",
      "|  Eve| 25|\n",
      "+-----+---+\n",
      "\n",
      "Number of rows: 4\n"
     ]
    }
   ],
   "source": [
    "#3  Count and Show\n",
    "\n",
    "spark = SparkSession.builder.appName(\"count_show\").getOrCreate()\n",
    "\n",
    "# Sample data for DataFrame\n",
    "data = [(\"John\", 28), (\"Alice\", 22), (\"Bob\", 32), (\"Eve\", 25)]\n",
    "\n",
    "# Define the schema for the DataFrame\n",
    "schema = [\"Name\", \"Age\"]\n",
    "\n",
    "# Create a DataFrame\n",
    "df = spark.createDataFrame(data, schema=schema)\n",
    "\n",
    "# Show the DataFrame\n",
    "print(\"Original DataFrame:\")\n",
    "df.show()\n",
    "\n",
    "# Count the number of rows in the DataFrame\n",
    "row_count = df.count()\n",
    "print(f\"Number of rows: {row_count}\")\n",
    "\n",
    "# Perform some other actions on the DataFrame as needed\n",
    "\n",
    "# Stop the Spark session\n",
    "spark.stop()"
   ]
  },
  {
   "cell_type": "code",
   "execution_count": 19,
   "metadata": {},
   "outputs": [
    {
     "name": "stdout",
     "output_type": "stream",
     "text": [
      "Original DataFrame:\n",
      "+-------+----------+------+\n",
      "|   Name|Department|Salary|\n",
      "+-------+----------+------+\n",
      "|   John|     Sales|  1000|\n",
      "|  Alice| Marketing|  1500|\n",
      "|    Bob|     Sales|  1200|\n",
      "|    Eve| Marketing|   800|\n",
      "|Charlie|     Sales|  2000|\n",
      "+-------+----------+------+\n",
      "\n",
      "Aggregated DataFrame:\n",
      "+----------+-----------+-------------+\n",
      "|Department|TotalSalary|AverageSalary|\n",
      "+----------+-----------+-------------+\n",
      "|     Sales|       4200|       1400.0|\n",
      "| Marketing|       2300|       1150.0|\n",
      "+----------+-----------+-------------+\n",
      "\n"
     ]
    }
   ],
   "source": [
    "#4  Aggregations\n",
    "\n",
    "from pyspark.sql.functions import col, sum, avg\n",
    "\n",
    "spark = SparkSession.builder.appName(\"aggregations_example\").getOrCreate()\n",
    "\n",
    "# Sample data for DataFrame\n",
    "data = [(\"John\", \"Sales\", 1000),\n",
    "        (\"Alice\", \"Marketing\", 1500),\n",
    "        (\"Bob\", \"Sales\", 1200),\n",
    "        (\"Eve\", \"Marketing\", 800),\n",
    "        (\"Charlie\", \"Sales\", 2000)]\n",
    "\n",
    "# Define the schema for the DataFrame\n",
    "schema = [\"Name\", \"Department\", \"Salary\"]\n",
    "\n",
    "# Create a DataFrame\n",
    "df = spark.createDataFrame(data, schema=schema)\n",
    "\n",
    "# Show the original DataFrame\n",
    "print(\"Original DataFrame:\")\n",
    "df.show()\n",
    "\n",
    "# Perform basic aggregations\n",
    "total_salary = df.groupBy(\"Department\") \\\n",
    "                 .agg(sum(\"Salary\").alias(\"TotalSalary\"), avg(\"Salary\").alias(\"AverageSalary\"))\n",
    "\n",
    "# Show the aggregated results\n",
    "print(\"Aggregated DataFrame:\")\n",
    "total_salary.show()\n",
    "\n",
    "# Stop the Spark session\n",
    "spark.stop()"
   ]
  },
  {
   "cell_type": "code",
   "execution_count": 21,
   "metadata": {},
   "outputs": [
    {
     "name": "stdout",
     "output_type": "stream",
     "text": [
      "Original DataFrame:\n",
      "+-------+----------+------+\n",
      "|   Name|Department|Salary|\n",
      "+-------+----------+------+\n",
      "|   John|     Sales|  1000|\n",
      "|  Alice| Marketing|  1500|\n",
      "|    Bob|     Sales|  1200|\n",
      "|    Eve| Marketing|   800|\n",
      "|Charlie|     Sales|  2000|\n",
      "+-------+----------+------+\n",
      "\n"
     ]
    }
   ],
   "source": [
    "#5 CSV\n",
    "\n",
    "spark = SparkSession.builder.appName(\"write_to_csv_example\").getOrCreate()\n",
    "\n",
    "# Sample data for DataFrame\n",
    "data = [(\"John\", \"Sales\", 1000),\n",
    "        (\"Alice\", \"Marketing\", 1500),\n",
    "        (\"Bob\", \"Sales\", 1200),\n",
    "        (\"Eve\", \"Marketing\", 800),\n",
    "        (\"Charlie\", \"Sales\", 2000)]\n",
    "\n",
    "# Define the schema for the DataFrame\n",
    "schema = [\"Name\", \"Department\", \"Salary\"]\n",
    "\n",
    "# Create a DataFrame\n",
    "df = spark.createDataFrame(data, schema=schema)\n",
    "\n",
    "# Show the original DataFrame\n",
    "print(\"Original DataFrame:\")\n",
    "df.show()\n",
    "\n",
    "# Define the output CSV file path\n",
    "output_path = \"/home/lplab/Desktop/15B BDAL/output.csv\"\n",
    "\n",
    "# Write the DataFrame to a CSV file\n",
    "df.write.csv(output_path, header=True, mode=\"overwrite\")\n",
    "\n",
    "# Stop the Spark session\n",
    "spark.stop()"
   ]
  },
  {
   "cell_type": "code",
   "execution_count": null,
   "metadata": {},
   "outputs": [],
   "source": []
  }
 ],
 "metadata": {
  "kernelspec": {
   "display_name": "Python 3",
   "language": "python",
   "name": "python3"
  },
  "language_info": {
   "codemirror_mode": {
    "name": "ipython",
    "version": 3
   },
   "file_extension": ".py",
   "mimetype": "text/x-python",
   "name": "python",
   "nbconvert_exporter": "python",
   "pygments_lexer": "ipython3",
   "version": "3.10.12"
  }
 },
 "nbformat": 4,
 "nbformat_minor": 2
}
